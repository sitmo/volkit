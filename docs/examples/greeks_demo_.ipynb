{
 "cells": [
  {
   "cell_type": "markdown",
   "id": "210b03fe66534e08a2480f88d801bb69",
   "metadata": {},
   "source": [
    "# Greeks demo (European options on futures, Black-76)\n",
    "\n",
    "We start from a single **call** option instance and, for each Greek,\n",
    "1) explain what it means, 2) compute it analytically using `volkit.future`,\n",
    "3) approximate it numerically using a small **central difference** bump, and\n",
    "4) print the values and the approximation error.\n"
   ]
  },
  {
   "cell_type": "code",
   "execution_count": 13,
   "id": "dd31db91225549ce9fa5ea7897e314f0",
   "metadata": {},
   "outputs": [],
   "source": [
    "import numpy as np\n",
    "from volkit.future import (\n",
    "    price_euro_future,\n",
    "    delta_euro_future,\n",
    "    gamma_euro_future,\n",
    "    vega_euro_future,\n",
    "    theta_euro_future,\n",
    "    rho_euro_future,\n",
    "    dual_delta_euro_future,\n",
    "    vanna_euro_future,\n",
    "    vomma_euro_future,\n",
    "    lambda_euro_future,\n",
    ")\n",
    "\n",
    "np.set_printoptions(precision=10, suppress=True)\n",
    "\n",
    "# Base parameters (edit me)\n",
    "F = 100.0\n",
    "K = 100.0\n",
    "T = 0.5    # years\n",
    "r = 0.02   # cc rate\n",
    "sigma = 0.20\n",
    "cp = 'call'"
   ]
  },
  {
   "cell_type": "markdown",
   "id": "6998482eb64d445d80bb811d011a5db5",
   "metadata": {},
   "source": [
    "## Numerical greeks\n",
    "\n",
    "Below, we compare the analytical greeks from this library with numerical approximation. The goal is to\n",
    "\n",
    "* show alignment between the two methods\n",
    "* illustrate the definitions of various greeks\n",
    "\n",
    "We use the following numerical approximation schemes:\n",
    "\n",
    "**Central difference for first derivative**\n",
    "\n",
    "$$\n",
    "f'(x) \\approx \\dfrac{f(x+h)-f(x-h)}{2h}\n",
    "$$\n",
    "\n",
    "\n",
    "**Central difference for second derivative**\n",
    "$$\n",
    "f''(x) \\approx \\dfrac{f(x+h)-2f(x)+f(x-h)}{h^2}\n",
    "$$\n",
    "\n",
    "**Mixed partial derivatives (vanna)**\n",
    "\n",
    "$$\n",
    "\\partial^2 f/\\partial x\\,\\partial y \\approx \\dfrac{f(x+h,y+k)-f(x+h,y-k)-f(x-h,y+k)+f(x-h,y-k)}{4hk}\n",
    "$$\n"
   ]
  },
  {
   "cell_type": "markdown",
   "id": "6c99daed8a5c4d3cac53f1e3250c040a",
   "metadata": {},
   "source": [
    "## Baseline price\n",
    "This is the present value (discounted) of the option under Black-76."
   ]
  },
  {
   "cell_type": "code",
   "execution_count": 18,
   "id": "ae9967ca4c394247892ff0be93f2e68c",
   "metadata": {},
   "outputs": [
    {
     "name": "stdout",
     "output_type": "stream",
     "text": [
      "Price: 5.581106724604814\n"
     ]
    }
   ],
   "source": [
    "V0 = price_euro_future(F, K, T, r, sigma, cp)\n",
    "print('Price:', V0)"
   ]
  },
  {
   "cell_type": "markdown",
   "id": "b552533c13794f9691a27ffff76b4fb0",
   "metadata": {},
   "source": [
    "## Delta: sensitivity to futures price $\\partial V / \\partial F$\n",
    "How much the option price $V$ moves per 1-unit change in the **futures** price $F$."
   ]
  },
  {
   "cell_type": "code",
   "execution_count": 17,
   "id": "adc397e3",
   "metadata": {},
   "outputs": [
    {
     "name": "stdout",
     "output_type": "stream",
     "text": [
      "Delta  analytic : 0.5229304504976081\n",
      "Delta  numerical: 0.5229304435331983\n",
      "abs err: 6.964409826615281e-09\n"
     ]
    }
   ],
   "source": [
    "analytical = delta_euro_future(F, K, T, r, sigma, cp)\n",
    "\n",
    "dF = 1e-4 * F\n",
    "\n",
    "numerical = (\n",
    "    price_euro_future(F + dF, K, T, r, sigma, cp) -\n",
    "    price_euro_future(F - dF, K, T, r, sigma, cp)\n",
    ") / (2 * dF)\n",
    "\n",
    "print('Delta  analytic :', analytical)\n",
    "print('Delta  numerical:', numerical)\n",
    "print('abs err:', abs(analytical - numerical))"
   ]
  },
  {
   "cell_type": "markdown",
   "id": "0871951c81c647a0a17370038741c8d4",
   "metadata": {},
   "source": [
    "## Gamma — curvature w.r.t. futures (∂²V/∂F²)\n",
    "How delta changes as **F** changes; curvature of price in **F**."
   ]
  },
  {
   "cell_type": "code",
   "execution_count": 5,
   "id": "824e8cf4c3b843dfbbba0aafc01ee85b",
   "metadata": {},
   "outputs": [
    {
     "name": "stdout",
     "output_type": "stream",
     "text": [
      "Gamma  analytic : 0.027859055399082604\n",
      "Gamma  numerical: 0.027858948026349133\n",
      "abs err: 1.0737273347175003e-07\n"
     ]
    }
   ],
   "source": [
    "analytical = gamma_euro_future(F, K, T, r, sigma, cp)\n",
    "hF = max(1e-3*F, 1e-3)\n",
    "numerical = central_second_wrt_F(F, K, T, r, sigma, hF)\n",
    "print('Gamma  analytic :', analytical)\n",
    "print('Gamma  numerical:', numerical)\n",
    "print('abs err:', abs(analytical - numerical))"
   ]
  },
  {
   "cell_type": "markdown",
   "id": "1c371eab2b4d4268bc08474d5b1f2ae8",
   "metadata": {},
   "source": [
    "## Vega — sensitivity to volatility (∂V/∂σ)\n",
    "Price change for a small change in **volatility** (per 1.00 vol, not per 1%)."
   ]
  },
  {
   "cell_type": "code",
   "execution_count": 6,
   "id": "77899eaa288a4888b690d56883cd28d3",
   "metadata": {},
   "outputs": [
    {
     "name": "stdout",
     "output_type": "stream",
     "text": [
      "Vega   analytic : 27.85905539908261\n",
      "Vega   numerical: 27.859055398926632\n",
      "abs err: 1.559783413540572e-10\n"
     ]
    }
   ],
   "source": [
    "analytical = vega_euro_future(F, K, T, r, sigma, cp)\n",
    "k = max(1e-4*sigma, 1e-5)\n",
    "numerical = central_first_wrt_sigma(F, K, T, r, sigma, k)\n",
    "print('Vega   analytic :', analytical)\n",
    "print('Vega   numerical:', numerical)\n",
    "print('abs err:', abs(analytical - numerical))"
   ]
  },
  {
   "cell_type": "markdown",
   "id": "9cddae819c1f429f933505b42f4d76b1",
   "metadata": {},
   "source": [
    "## Theta — sensitivity to time (∂V/∂T)\n",
    "Change in price for a 1-year increase in **time to maturity** (holding F constant)."
   ]
  },
  {
   "cell_type": "code",
   "execution_count": 7,
   "id": "ad1b503e3be445a9841a14a2dfee27cd",
   "metadata": {},
   "outputs": [
    {
     "name": "stdout",
     "output_type": "stream",
     "text": [
      "Theta  analytic : -5.683433214308618\n",
      "Theta  numerical: -5.4601889525063285\n",
      "abs err: 0.2232442618022894\n"
     ]
    }
   ],
   "source": [
    "analytical = theta_euro_future(F, K, T, r, sigma, cp)\n",
    "t = max(1e-4*T, 1e-5)\n",
    "numerical = -central_first_wrt_T(F, K, T, r, sigma, t)\n",
    "print('Theta  analytic :', analytical)\n",
    "print('Theta  numerical:', numerical)\n",
    "print('abs err:', abs(analytical - numerical))"
   ]
  },
  {
   "cell_type": "markdown",
   "id": "38985dad71914f458afdedb7b9ef4ecb",
   "metadata": {},
   "source": [
    "## Rho — sensitivity to interest rate (∂V/∂r)\n",
    "Change in price for a 1.00 (100 percentage points) change in **r** (continuous compounding)."
   ]
  },
  {
   "cell_type": "code",
   "execution_count": 8,
   "id": "9f3f2a61bedc42909d93db3f64da0785",
   "metadata": {},
   "outputs": [
    {
     "name": "stdout",
     "output_type": "stream",
     "text": [
      "Rho    analytic : -2.790553362302407\n",
      "Rho    numerical: -2.7905533634653423\n",
      "abs err: 1.1629355256559393e-09\n"
     ]
    }
   ],
   "source": [
    "analytical = rho_euro_future(F, K, T, r, sigma, cp)\n",
    "q = max(1e-4*max(abs(r), 1.0), 1e-5)  # absolute bump on r\n",
    "numerical = central_first_wrt_r(F, K, T, r, sigma, q)\n",
    "print('Rho    analytic :', analytical)\n",
    "print('Rho    numerical:', numerical)\n",
    "print('abs err:', abs(analytical - numerical))"
   ]
  },
  {
   "cell_type": "markdown",
   "id": "603b009e0e7a4a57a37378989a530720",
   "metadata": {},
   "source": [
    "## Dual delta — sensitivity to strike (∂V/∂K)\n",
    "Change in price per 1-unit change in **strike**."
   ]
  },
  {
   "cell_type": "code",
   "execution_count": 9,
   "id": "febf80c17a654c18ab682cd9af30d183",
   "metadata": {},
   "outputs": [
    {
     "name": "stdout",
     "output_type": "stream",
     "text": [
      "DualΔ  analytic : -0.46711938325156\n",
      "DualΔ  numerical: -0.4671193902171744\n",
      "abs err: 6.965614418596999e-09\n"
     ]
    }
   ],
   "source": [
    "analytical = dual_delta_euro_future(F, K, T, r, sigma, cp)\n",
    "k = max(1e-4*K, 1e-3)\n",
    "numerical = central_first_wrt_K(F, K, T, r, sigma, k)\n",
    "print('DualΔ  analytic :', analytical)\n",
    "print('DualΔ  numerical:', numerical)\n",
    "print('abs err:', abs(analytical - numerical))"
   ]
  },
  {
   "cell_type": "markdown",
   "id": "919db39ba02a4a06a89a1ee058c0371d",
   "metadata": {},
   "source": [
    "## Vanna — cross sensitivity (∂²V/∂F∂σ)\n",
    "How **vega** changes with **F** (or **delta** with σ)."
   ]
  },
  {
   "cell_type": "code",
   "execution_count": 10,
   "id": "4006a4180eaa48c7a4ea5334a4ec83a7",
   "metadata": {},
   "outputs": [
    {
     "name": "stdout",
     "output_type": "stream",
     "text": [
      "Vanna  analytic : 0.13929527699541305\n",
      "Vanna  numerical: 0.1392987765913567\n",
      "abs err: 3.4995959436456836e-06\n"
     ]
    }
   ],
   "source": [
    "analytical = vanna_euro_future(F, K, T, r, sigma, cp)\n",
    "hF = max(1e-3*F, 1e-3)\n",
    "kS = max(1e-3*sigma, 1e-4)\n",
    "numerical = mixed_F_sigma(F, K, T, r, sigma, hF, kS)\n",
    "print('Vanna  analytic :', analytical)\n",
    "print('Vanna  numerical:', numerical)\n",
    "print('abs err:', abs(analytical - numerical))"
   ]
  },
  {
   "cell_type": "markdown",
   "id": "90dfcebc8bb1452aa1c3811d3574fb63",
   "metadata": {},
   "source": [
    "## Vomma (volga) — curvature in volatility (∂²V/∂σ²)\n",
    "How **vega** changes with σ (second derivative in volatility)."
   ]
  },
  {
   "cell_type": "code",
   "execution_count": 11,
   "id": "2c0a69d1e23c43c082667879199ed846",
   "metadata": {},
   "outputs": [
    {
     "name": "stdout",
     "output_type": "stream",
     "text": [
      "Vomma  analytic : -0.6964763849770655\n",
      "Vomma  numerical: -0.6964763432648624\n",
      "abs err: 4.1712203135979564e-08\n"
     ]
    }
   ],
   "source": [
    "analytical = vomma_euro_future(F, K, T, r, sigma, cp)\n",
    "k = max(1e-3*sigma, 1e-4)\n",
    "numerical = second_wrt_sigma(F, K, T, r, sigma, k)\n",
    "print('Vomma  analytic :', analytical)\n",
    "print('Vomma  numerical:', numerical)\n",
    "print('abs err:', abs(analytical - numerical))"
   ]
  },
  {
   "cell_type": "markdown",
   "id": "499d76f4fd0f4001a765949543d4ca18",
   "metadata": {},
   "source": [
    "## Lambda (elasticity) — leverage of price to F\n",
    "Elasticity $\\lambda = \\frac{F}{V}\\,\\Delta$ equals the log-derivative of price wrt **F**."
   ]
  },
  {
   "cell_type": "code",
   "execution_count": 12,
   "id": "bfa40e6dc5744997950f85f13a4294bf",
   "metadata": {},
   "outputs": [
    {
     "name": "stdout",
     "output_type": "stream",
     "text": [
      "Lambda analytic : 9.369655093535874\n",
      "Lambda numerical: 9.374367012900015\n",
      "abs err: 0.004711919364140726\n"
     ]
    }
   ],
   "source": [
    "analytical = lambda_euro_future(F, K, T, r, sigma, cp)\n",
    "h = 1e-3\n",
    "numerical = elastic_numeric(F, K, T, r, sigma, h)\n",
    "print('Lambda analytic :', analytical)\n",
    "print('Lambda numerical:', numerical)\n",
    "print('abs err:', abs(analytical - numerical))"
   ]
  }
 ],
 "metadata": {
  "kernelspec": {
   "display_name": "volkit-eeDo8oXc-py3.11",
   "language": "python",
   "name": "python3"
  },
  "language_info": {
   "codemirror_mode": {
    "name": "ipython",
    "version": 3
   },
   "file_extension": ".py",
   "mimetype": "text/x-python",
   "name": "python",
   "nbconvert_exporter": "python",
   "pygments_lexer": "ipython3",
   "version": "3.11.8"
  }
 },
 "nbformat": 4,
 "nbformat_minor": 5
}
