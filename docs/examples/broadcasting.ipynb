{
 "cells": [
  {
   "cell_type": "markdown",
   "metadata": {},
   "source": [
    "# Broadcasting with `volkit.future`\n",
    "\n",
    "This notebook shows how inputs broadcast across shapes in `price_euro_future`.\n",
    "\n",
    "**Key points**:\n",
    "- Any scalar or array arguments are **broadcasted** to a common shape.\n",
    "- `cp` can be `+1/-1` or `'call'/'put'`, and also broadcasts.\n",
    "- Results return with the broadcasted shape.\n"
   ],
   "id": "23537dbcbde1464b8b549bb2e3442a8f"
  },
  {
   "cell_type": "code",
   "execution_count": 1,
   "metadata": {},
   "outputs": [],
   "source": [
    "import numpy as np\n",
    "from volkit.future import price_euro_future\n",
    "\n",
    "np.set_printoptions(precision=6, suppress=True)"
   ],
   "id": "153b393210f542e48763507b9bf47ae9"
  },
  {
   "cell_type": "markdown",
   "metadata": {},
   "source": [
    "## Example 1 — 1D broadcast (vector `F`, scalar `K,T,r,σ`, scalar `cp`)\n"
   ],
   "id": "ae1e5739149a432faf1b99eb27b17084"
  },
  {
   "cell_type": "code",
   "execution_count": 2,
   "metadata": {},
   "outputs": [
    {
     "name": "stdout",
     "output_type": "stream",
     "text": [
      "Example 1 shape: (3,)\n",
      "[ 1.754815  5.581107 12.089743]\n"
     ]
    }
   ],
   "source": [
    "F = np.array([90.0, 100.0, 110.0])\n",
    "K = 100.0\n",
    "T = 0.5\n",
    "r = 0.02\n",
    "sigma = 0.20\n",
    "cp = 'call'\n",
    "p1 = price_euro_future(F, K, T, r, sigma, cp)\n",
    "print('Example 1 shape:', p1.shape)\n",
    "print(p1)"
   ],
   "id": "fac939b3e781487ca41f47fcffbe03d5"
  },
  {
   "cell_type": "markdown",
   "metadata": {},
   "source": [
    "## Example 2 — `cp` as a vector\n",
    "We mix calls and puts in one call."
   ],
   "id": "91c25d6b87344542bda758f1009d3860"
  },
  {
   "cell_type": "code",
   "execution_count": 4,
   "metadata": {},
   "outputs": [
    {
     "name": "stdout",
     "output_type": "stream",
     "text": [
      "Example 2 shape: (3,)\n",
      "[ 1.754815  5.581107 12.089743]\n"
     ]
    }
   ],
   "source": [
    "cp_vec = np.array(['call', 'put', 'call'])\n",
    "p2 = price_euro_future(F, K, T, r, sigma, cp_vec)\n",
    "print('Example 2 shape:', p2.shape)\n",
    "print(p2)\n",
    "\n"
   ],
   "id": "24a382704d5d40578e5c5c8350dd5a15"
  },
  {
   "cell_type": "markdown",
   "metadata": {},
   "source": [
    "## Example 3 — 2D broadcast (rows × cols) and broadcasting `cp`\n",
    "Here shapes are `(2,1)` × `(1,3)` → output `(2,3)`."
   ],
   "id": "9a6a1290d91f4c3eab14520b568f5f18"
  },
  {
   "cell_type": "code",
   "execution_count": 7,
   "metadata": {},
   "outputs": [
    {
     "name": "stdout",
     "output_type": "stream",
     "text": [
      "Example 3 shape: (2, 3)\n",
      "[[12.021202  2.557496  0.306144]\n",
      " [ 1.652928  7.337307 18.391679]]\n",
      "Max abs diff to manual broadcast: 0.0\n"
     ]
    }
   ],
   "source": [
    "F2 = np.array([[90.0], [110.0]])        # (2,1)\n",
    "K2 = np.array([[80.0, 100.0, 120.0]])   # (1,3)\n",
    "T2 = 1.25\n",
    "r2 = 0.00\n",
    "sigma2 = np.array([[0.15], [0.25]])     # (2,1)\n",
    "cp2 = np.array([['call'], ['put']])     # (2,1)\n",
    "\n",
    "p3 = price_euro_future(F2, K2, T2, r2, sigma2, cp2)\n",
    "print('Example 3 shape:', p3.shape)\n",
    "print(p3)\n",
    "\n",
    "# Sanity: compare with explicit expanded arrays (manual broadcast)\n",
    "shape = np.broadcast(F2, K2, T2, r2, sigma2, cp2).shape\n",
    "F2b, K2b, T2b, r2b, s2b, cp2b = (np.broadcast_to(x, shape) for x in (F2, K2, T2, r2, sigma2, cp2))\n",
    "p3_manual = price_euro_future(F2b, K2b, T2b, r2b, s2b, cp2b)\n",
    "print('Max abs diff to manual broadcast:', np.max(np.abs(p3 - p3_manual)))"
   ],
   "id": "d86b6e4a95ba4c9aac2db95379a0ec48"
  }
 ],
 "metadata": {
  "kernelspec": {
   "display_name": "volkit-eMyHUDBN-py3.11",
   "language": "python",
   "name": "python3"
  },
  "language_info": {
   "codemirror_mode": {
    "name": "ipython",
    "version": 3
   },
   "file_extension": ".py",
   "mimetype": "text/x-python",
   "name": "python",
   "nbconvert_exporter": "python",
   "pygments_lexer": "ipython3",
   "version": "3.11.8"
  }
 },
 "nbformat": 4,
 "nbformat_minor": 5
}
